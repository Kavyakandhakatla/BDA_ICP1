{
  "nbformat": 4,
  "nbformat_minor": 0,
  "metadata": {
    "colab": {
      "provenance": [],
      "authorship_tag": "ABX9TyP9OddHhZZcM7ens8ouhAIR",
      "include_colab_link": true
    },
    "kernelspec": {
      "name": "python3",
      "display_name": "Python 3"
    },
    "language_info": {
      "name": "python"
    }
  },
  "cells": [
    {
      "cell_type": "markdown",
      "metadata": {
        "id": "view-in-github",
        "colab_type": "text"
      },
      "source": [
        "<a href=\"https://colab.research.google.com/github/Kavyakandhakatla/BDA_ICP1/blob/main/ICP2.ipynb\" target=\"_parent\"><img src=\"https://colab.research.google.com/assets/colab-badge.svg\" alt=\"Open In Colab\"/></a>"
      ]
    },
    {
      "cell_type": "markdown",
      "source": [
        "Tasks:\n",
        "• Explain the difference between Counter.count and self._count.\n",
        "• What is the output of a.get_counts() and b.get_counts()?\n",
        "• How does the increment method affect both the class and instance variables?"
      ],
      "metadata": {
        "id": "Cncxsxz_G4mD"
      }
    },
    {
      "cell_type": "markdown",
      "source": [
        "Counter.count is a class variable which is called used classname. Whenever this is called it takes the previously computed value. Doesn't intialize the value to original for every class instance created.\n",
        "\n",
        "self._count is a instance variable. so whenever a instance is created for class and called this method function containing self._count it will initiliased again to the original value."
      ],
      "metadata": {
        "id": "uuNFHO8fHCK6"
      }
    },
    {
      "cell_type": "markdown",
      "source": [
        "a.get_counts()-> Instance count: 2, Class count: 3\n",
        "\n",
        "b.get_counts()-> Instance count: 1, Class count: 3"
      ],
      "metadata": {
        "id": "6ywLfWgWH6U9"
      }
    },
    {
      "cell_type": "markdown",
      "source": [
        "For class variables, the increment method will increase the counter by 1 across all instances created for that class. Eg : b.get_counts() will give class count as 3 because here count value which is class variable is already calucated the value to 2 in a instance of that class. so now when it is called again it gets that previously computed value and does the operation on it.\n",
        "\n",
        "Whereas in local variables, it will increase the counter value by 1 only for that instance. Eg: In above program when a is called once it computed the valu to 1 then it is called again so it will take the computed value and added the value to it so it became 2. But now when b is created and called it again .. this time it wont take the previous value. Since it is a new instance so value starts from initialization."
      ],
      "metadata": {
        "id": "xT9fhy0AIUli"
      }
    },
    {
      "cell_type": "markdown",
      "source": [
        "Find and remove the bug from the code to obtain the given output.\n",
        "\n"
      ],
      "metadata": {
        "id": "23wYYH--J1n_"
      }
    },
    {
      "cell_type": "code",
      "source": [
        "## Corrected code : when passing aruguments given code just passes only one value, inorder to pass the value we need to add * which takes multiple values.\n",
        "\n",
        "def sum_all(*args):\n",
        "  return sum(args)\n",
        "\n",
        "print(\"Sum of 1, 2, 3 is:\", sum_all(1,2,3))\n",
        "print(\"Sum of 4, 5, 6, 7 is:\", sum_all(4, 5, 6, 7))\n"
      ],
      "metadata": {
        "colab": {
          "base_uri": "https://localhost:8080/"
        },
        "id": "mmtaicmrKGdx",
        "outputId": "9df75da4-c552-4a36-f90a-1ed65959eb7a"
      },
      "execution_count": null,
      "outputs": [
        {
          "output_type": "stream",
          "name": "stdout",
          "text": [
            "Sum of 1, 2, 3 is: 6\n",
            "Sum of 4, 5, 6, 7 is: 22\n"
          ]
        }
      ]
    },
    {
      "cell_type": "markdown",
      "source": [
        "3. Write a function called first_word that takes a list of character strings as input and returns the first\n",
        "element of the list in alphabetical order. For example, your function should work like this:\n",
        "students = ['Mary', 'Zelda', 'Jimmy', 'Jack', 'Bartholomew', 'Gertrude'] (Input)\n",
        "first_word(students) (Function)\n",
        "'Bartholomew' (Output)"
      ],
      "metadata": {
        "id": "eTRYUk4OK3ee"
      }
    },
    {
      "cell_type": "code",
      "source": [
        "def first_word():\n",
        "  list= input(\"enter student names\").split(\" \")\n",
        "  list.sort()\n",
        "  return list[0]\n",
        "first_word()\n"
      ],
      "metadata": {
        "id": "zBGlzCSRK4Rp",
        "colab": {
          "base_uri": "https://localhost:8080/",
          "height": 53
        },
        "outputId": "20f17e1d-67c3-4b2a-e189-82e7814d6dd9"
      },
      "execution_count": 28,
      "outputs": [
        {
          "name": "stdout",
          "output_type": "stream",
          "text": [
            "enter student namesalice bob catherine\n"
          ]
        },
        {
          "output_type": "execute_result",
          "data": {
            "text/plain": [
              "'alice'"
            ],
            "application/vnd.google.colaboratory.intrinsic+json": {
              "type": "string"
            }
          },
          "metadata": {},
          "execution_count": 28
        }
      ]
    },
    {
      "cell_type": "markdown",
      "source": [
        "Create a class Employee and then do the following\n",
        "• Create a data member to count the number of Employees\n",
        "• Create a constructor to initialize name, family, salary, department\n",
        "• Create a function to average salary\n",
        "• Create a Fulltime Employee class and it should inherit the properties of Employee class\n",
        "• Create the instances of Fulltime Employee class and Employee class and call their member functions."
      ],
      "metadata": {
        "id": "Kkx3py8cM-o2"
      }
    },
    {
      "cell_type": "code",
      "source": [
        "class Employee:\n",
        "  count=0\n",
        "  def __init__(self,name,family,salary,department):\n",
        "    self.name=name\n",
        "    self.family=family\n",
        "    self.salary=salary\n",
        "    self.department=department\n",
        "    Employee.count+=1\n",
        "\n",
        "  def average_salary(emp):\n",
        "    return emp.salary/ emp.count;\n",
        "\n",
        "class FulltimeEmployee(Employee):\n",
        "  def __init__(self,name,family,salary,department):\n",
        "    super().__init__(name,family,salary,department)\n",
        "\n",
        "a = Employee(\"Kavya\", \"Kandhakatla\", 5000, \"SDE\")\n",
        "b = FulltimeEmployee(\"Kiran\", \"Kumar\", 100000, \"DataScientist\")\n",
        "\n",
        "print(\"Total Employees:\", a.count)\n",
        "print(\"Total Average Salary:\", b.average_salary())\n",
        "print(\"{a.name} works in {a.department}\")\n",
        "print(\"{b.name} works in {b.department}\")"
      ],
      "metadata": {
        "colab": {
          "base_uri": "https://localhost:8080/"
        },
        "id": "ttxLcxJ4NC4e",
        "outputId": "1932b7d6-55f6-4b2d-ecfc-1eb6eee669ca"
      },
      "execution_count": 29,
      "outputs": [
        {
          "output_type": "stream",
          "name": "stdout",
          "text": [
            "Total Employees: 2\n",
            "Total Average Salary: 50000.0\n",
            "{a.name} works in {a.department}\n",
            "{b.name} works in {b.department}\n"
          ]
        }
      ]
    }
  ]
}