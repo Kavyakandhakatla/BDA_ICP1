{
  "nbformat": 4,
  "nbformat_minor": 0,
  "metadata": {
    "colab": {
      "provenance": [],
      "authorship_tag": "ABX9TyOf/OmGJV+rOU55RpCAhB7G",
      "include_colab_link": true
    },
    "kernelspec": {
      "name": "python3",
      "display_name": "Python 3"
    },
    "language_info": {
      "name": "python"
    }
  },
  "cells": [
    {
      "cell_type": "markdown",
      "metadata": {
        "id": "view-in-github",
        "colab_type": "text"
      },
      "source": [
        "<a href=\"https://colab.research.google.com/github/Kavyakandhakatla/BDA_ICP1/blob/main/BDA_assignment1.ipynb\" target=\"_parent\"><img src=\"https://colab.research.google.com/assets/colab-badge.svg\" alt=\"Open In Colab\"/></a>"
      ]
    },
    {
      "cell_type": "code",
      "execution_count": null,
      "metadata": {
        "id": "CIKdxWItwx7M"
      },
      "outputs": [],
      "source": [
        "from google.colab import drive\n",
        "drive.mount('/content/drive')\n",
        "\n",
        "\n"
      ]
    },
    {
      "cell_type": "markdown",
      "source": [
        "a. Input the string “Python” as a list of characters from console, delete at least 2\n",
        "characters, reversetheresultant string, and print it.\n",
        "Sample input:\n",
        "• python\n",
        "Sample output:\n",
        "• htyp"
      ],
      "metadata": {
        "id": "epCMuVwa5i3r"
      }
    },
    {
      "cell_type": "code",
      "source": [
        "str = list(input(\"Input a string: \"))\n",
        "str.remove('p')\n",
        "str.remove('y')\n",
        "str.reverse()\n",
        "print(\"\".join(str))\n"
      ],
      "metadata": {
        "id": "DHvnBoje0glj"
      },
      "execution_count": null,
      "outputs": []
    },
    {
      "cell_type": "code",
      "source": [
        "i = int(input(\"Enter first number: \"))\n",
        "j = int(input(\"Enter second number: \"))\n",
        "add= i+j\n",
        "sub= i-j\n",
        "mul=i*j\n",
        "div= i/j\n",
        "\n",
        "print(\"Addition:\", add)\n",
        "print(\"Subtraction:\",sub)\n",
        "print(\"Multiplication:\", mul)\n",
        "print(\"Division:\", div)\n"
      ],
      "metadata": {
        "colab": {
          "base_uri": "https://localhost:8080/"
        },
        "id": "S3DFXofA3M05",
        "outputId": "2cc7c36a-2bbc-44b8-9af8-059e2c1c772c"
      },
      "execution_count": null,
      "outputs": [
        {
          "output_type": "stream",
          "name": "stdout",
          "text": [
            "Enter first number: 2\n",
            "Enter second number: 4\n",
            "Addition: 6\n",
            "Subtraction: -2\n",
            "Multiplication: 8\n",
            "Division: 0.5\n"
          ]
        }
      ]
    },
    {
      "cell_type": "code",
      "source": [
        "sentence = input(\"Enter a sentence: \")\n",
        "sentence = sentence.replace('python', 'pythons')\n",
        "print(\"Modified sentence:\", sentence)\n"
      ],
      "metadata": {
        "colab": {
          "base_uri": "https://localhost:8080/"
        },
        "id": "OtG8bgId5Sk8",
        "outputId": "89d2249f-defa-4385-b4db-925689d08526"
      },
      "execution_count": null,
      "outputs": [
        {
          "output_type": "stream",
          "name": "stdout",
          "text": [
            "Enter a sentence: I love python programming\n",
            "Modified sentence: I love pythons programming\n"
          ]
        }
      ]
    },
    {
      "cell_type": "code",
      "source": [
        "marks = int(input(\"Enter scored marks: \"))\n",
        "\n",
        "if marks >= 90:\n",
        "    grade = \"A\"\n",
        "elif marks >= 80:\n",
        "    grade = \"B\"\n",
        "elif marks >= 70:\n",
        "    grade = \"C\"\n",
        "elif marks >= 60:\n",
        "    grade = \"D\"\n",
        "else:\n",
        "    grade = \"F\"\n",
        "\n",
        "print(\"Final grade is:\", grade)\n"
      ],
      "metadata": {
        "colab": {
          "base_uri": "https://localhost:8080/"
        },
        "id": "Awc9C1k-5u2I",
        "outputId": "a812b7fa-836b-436f-85b7-42ddd697441b"
      },
      "execution_count": null,
      "outputs": [
        {
          "output_type": "stream",
          "name": "stdout",
          "text": [
            "Enter scored marks: 85\n",
            "Final grade is: B\n"
          ]
        }
      ]
    },
    {
      "cell_type": "markdown",
      "source": [
        "8. Write a code that appends the type of elements from a given list.\n",
        "Input\n",
        "x = [23, ‘Python’, 23.98]\n",
        "Expected output\n",
        "[23, 'Python', 23.98]\n",
        "[<class 'int'>, <class 'str'>, <class 'float'>]"
      ],
      "metadata": {
        "id": "9cUB7xzG6JW3"
      }
    },
    {
      "cell_type": "code",
      "source": [
        "x = [23, 'Python', 23.98]\n",
        "print(x)\n",
        "types = [type(i) for i in x]\n",
        "print(types)\n"
      ],
      "metadata": {
        "colab": {
          "base_uri": "https://localhost:8080/"
        },
        "id": "-vpVxl9W6OyK",
        "outputId": "67fb3438-f633-40ac-90d7-0faa09aac949"
      },
      "execution_count": null,
      "outputs": [
        {
          "output_type": "stream",
          "name": "stdout",
          "text": [
            "[23, 'Python', 23.98]\n",
            "[<class 'int'>, <class 'str'>, <class 'float'>]\n"
          ]
        }
      ]
    },
    {
      "cell_type": "markdown",
      "source": [
        "9. IT_companies = {'Facebook', 'Google', 'Microsoft', 'Apple', 'IBM', 'Oracle', 'Amazon'}\n",
        "A = {19, 22, 24, 20, 25, 26}\n",
        "B = {19, 22, 20, 25, 26, 24, 28, 27}\n",
        "age = [22, 19, 24, 25, 26, 24, 25, 24]\n",
        "• Find the length of the set IT_companies\n",
        "• Add 'Twitter' to IT_companies\n",
        "• Insert multiple IT companies at once to the set IT_companies\n",
        "• Remove one of the companies from the set IT_companies\n",
        "• What is the difference between remove and discard\n",
        "• Join A and B\n",
        "• Find A intersection B\n",
        "• Is A subset of B\n",
        "• Are A and B disjoint sets\n",
        "• Join A with B and B with A\n",
        "• What is the symmetric difference between A and B\n",
        "• Delete the sets completely\n",
        "• Convert the ages to a set and compare the length of the list and the set."
      ],
      "metadata": {
        "id": "NFh8h3AS6N4N"
      }
    },
    {
      "cell_type": "code",
      "source": [
        "IT_companies = {'Facebook', 'Google', 'Microsoft', 'Apple', 'IBM', 'Oracle', 'Amazon'}\n",
        "A = {19, 22, 24, 20, 25, 26}\n",
        "B = {19, 22, 20, 25, 26, 24, 28, 27}\n",
        "age = [22, 19, 24, 25, 26, 24, 25, 24]"
      ],
      "metadata": {
        "id": "K4cUufmM6oqK"
      },
      "execution_count": null,
      "outputs": []
    },
    {
      "cell_type": "code",
      "source": [
        "print(\"length of IT_companies:\", len(IT_companies))"
      ],
      "metadata": {
        "colab": {
          "base_uri": "https://localhost:8080/"
        },
        "id": "o12mCcGI7MR4",
        "outputId": "b858323a-2f22-4592-e655-3c78ac0e8acc"
      },
      "execution_count": null,
      "outputs": [
        {
          "output_type": "stream",
          "name": "stdout",
          "text": [
            "length of IT_companies: 7\n"
          ]
        }
      ]
    },
    {
      "cell_type": "code",
      "source": [
        "IT_companies.add('Twitter')\n",
        "print(IT_companies)"
      ],
      "metadata": {
        "colab": {
          "base_uri": "https://localhost:8080/"
        },
        "id": "esKtRLKv7WCl",
        "outputId": "db63acf2-31b8-4f72-dfc0-1bc7a320cc45"
      },
      "execution_count": null,
      "outputs": [
        {
          "output_type": "stream",
          "name": "stdout",
          "text": [
            "{'Facebook', 'Google', 'Twitter', 'Apple', 'Amazon', 'Oracle', 'IBM', 'Microsoft'}\n"
          ]
        }
      ]
    },
    {
      "cell_type": "code",
      "source": [
        "IT_companies.update(['Cisco', 'Capgemini', 'UnionBank'])\n",
        "print(IT_companies)"
      ],
      "metadata": {
        "colab": {
          "base_uri": "https://localhost:8080/"
        },
        "id": "Zkh7a8A27iLU",
        "outputId": "e3019fcb-872e-4469-c850-31e044548276"
      },
      "execution_count": null,
      "outputs": [
        {
          "output_type": "stream",
          "name": "stdout",
          "text": [
            "{'Twitter', 'Oracle', 'Microsoft', 'Google', 'Amazon', 'Facebook', 'Capgemini', 'Cisco', 'IBM', 'Apple', 'UnionBank'}\n"
          ]
        }
      ]
    },
    {
      "cell_type": "code",
      "source": [
        "IT_companies.remove('IBM')\n",
        "print(IT_companies)"
      ],
      "metadata": {
        "colab": {
          "base_uri": "https://localhost:8080/"
        },
        "id": "zaxTny8M8QSN",
        "outputId": "e283fc6a-d298-4069-aa84-8e0d8e726a11"
      },
      "execution_count": null,
      "outputs": [
        {
          "output_type": "stream",
          "name": "stdout",
          "text": [
            "{'Twitter', 'Oracle', 'Microsoft', 'Google', 'Amazon', 'Facebook', 'Capgemini', 'Cisco', 'Apple', 'UnionBank'}\n"
          ]
        }
      ]
    },
    {
      "cell_type": "markdown",
      "source": [
        "Remove will give the error if there is no element in the input and discard will not give any error it just discards."
      ],
      "metadata": {
        "id": "OOmdQaTo8rMd"
      }
    },
    {
      "cell_type": "code",
      "source": [
        "print(\"Join A and B:\", A.union(B))\n",
        "print(\"Intersection A and B:\", A.intersection(B))\n",
        "print(\"Is A subset of B:\", A.issubset(B))\n",
        "print(\"A and B disjoint?\", A.isdisjoint(B))\n",
        "\n",
        "print(\"A joined with B:\", A | B)\n",
        "print(\"B joined with A:\", B | A)\n",
        "\n",
        "print(\"Symmetric difference A and B:\", A.symmetric_difference(B))\n",
        "\n",
        "del A\n",
        "del B\n",
        "\n",
        "age_set = set(age)\n",
        "print(\"Length of list:\", len(age))\n",
        "print(\"Length of set:\", len(age_set))"
      ],
      "metadata": {
        "colab": {
          "base_uri": "https://localhost:8080/"
        },
        "id": "PYMG_zUv87zX",
        "outputId": "e69f4f7d-5c96-4b6d-929a-10751123a5da"
      },
      "execution_count": null,
      "outputs": [
        {
          "output_type": "stream",
          "name": "stdout",
          "text": [
            "Join A and B: {19, 20, 22, 24, 25, 26, 27, 28}\n",
            "Intersection A and B: {19, 20, 22, 24, 25, 26}\n",
            "Is A subset of B: True\n",
            "A and B disjoint? False\n",
            "A joined with B: {19, 20, 22, 24, 25, 26, 27, 28}\n",
            "B joined with A: {19, 20, 22, 24, 25, 26, 27, 28}\n",
            "Symmetric difference A and B: {27, 28}\n",
            "Length of list: 8\n",
            "Length of set: 5\n"
          ]
        }
      ]
    },
    {
      "cell_type": "markdown",
      "source": [],
      "metadata": {
        "id": "qz368cPG-td6"
      }
    },
    {
      "cell_type": "markdown",
      "source": [
        "Link to explanation video"
      ],
      "metadata": {
        "id": "MAYDOKiHLJlw"
      }
    },
    {
      "cell_type": "markdown",
      "source": [
        "https://drive.google.com/file/d/1kTOTfrcyWRuJE0LJxBRCK2NR5Y1xtGGP/view?usp=sharing"
      ],
      "metadata": {
        "id": "6u9kcKzxK8Uj"
      }
    },
    {
      "cell_type": "code",
      "source": [],
      "metadata": {
        "id": "_noY1tGp9UwD"
      },
      "execution_count": null,
      "outputs": []
    }
  ]
}