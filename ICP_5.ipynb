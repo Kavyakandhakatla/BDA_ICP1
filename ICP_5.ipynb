{
  "nbformat": 4,
  "nbformat_minor": 0,
  "metadata": {
    "colab": {
      "provenance": [],
      "include_colab_link": true
    },
    "kernelspec": {
      "name": "python3",
      "display_name": "Python 3"
    },
    "language_info": {
      "name": "python"
    }
  },
  "cells": [
    {
      "cell_type": "markdown",
      "metadata": {
        "id": "view-in-github",
        "colab_type": "text"
      },
      "source": [
        "<a href=\"https://colab.research.google.com/github/Kavyakandhakatla/BDA_ICP1/blob/main/ICP_5.ipynb\" target=\"_parent\"><img src=\"https://colab.research.google.com/assets/colab-badge.svg\" alt=\"Open In Colab\"/></a>"
      ]
    },
    {
      "cell_type": "code",
      "execution_count": 21,
      "metadata": {
        "id": "nSc3IOaQNQu2",
        "colab": {
          "base_uri": "https://localhost:8080/"
        },
        "outputId": "408d8d7a-5f19-4ba1-e4ac-5cf6eac26a93"
      },
      "outputs": [
        {
          "output_type": "stream",
          "name": "stdout",
          "text": [
            "Best parameters found: {'classifier__C': 0.1, 'classifier__kernel': 'linear', 'pca__n_components': 3}\n",
            "Best cross-validation score: 0.96\n",
            "Test set score: 1.00\n"
          ]
        }
      ],
      "source": [
        "from sklearn.datasets import load_iris\n",
        "from sklearn.model_selection import GridSearchCV, train_test_split\n",
        "from sklearn.preprocessing import StandardScaler\n",
        "from sklearn.decomposition import PCA\n",
        "from sklearn.svm import SVC\n",
        "from sklearn.pipeline import Pipeline\n",
        "\n",
        "# 1. Load dataset\n",
        "X, y = load_iris(return_X_y=True)\n",
        "X_train, X_test, y_train, y_test = train_test_split(X, y, test_size=0.2, random_state=42)\n",
        "\n",
        "# 2. Create pipeline\n",
        "pipe = Pipeline([\n",
        "    ('scaler', StandardScaler()),\n",
        "    ('pca', PCA()),\n",
        "    ('classifier', SVC())\n",
        "])\n",
        "\n",
        "# 3. Define parameter grid\n",
        "param_grid = {\n",
        "    'pca__n_components': [2, 3],\n",
        "    'classifier__C': [0.1, 1, 10],\n",
        "    'classifier__kernel': ['linear', 'rbf']\n",
        "}\n",
        "\n",
        "# 4. GridSearchCV\n",
        "grid = GridSearchCV(pipe, param_grid)\n",
        "grid.fit(X_train, y_train)\n",
        "\n",
        "# 5. Results\n",
        "print(\"Best parameters found:\", grid.best_params_)\n",
        "print(\"Best cross-validation score: {:.2f}\".format(grid.best_score_))\n",
        "print(\"Test set score: {:.2f}\".format(grid.score(X_test, y_test)))\n",
        "\n"
      ]
    },
    {
      "cell_type": "code",
      "source": [
        "# 3-Fold CV\n",
        "grid_3 = GridSearchCV(pipe, param_grid, cv=3)\n",
        "grid_3.fit(X_train, y_train)\n",
        "\n",
        "print(\"3-Fold CV Results:\")\n",
        "print(\"Best Parameters:\", grid_3.best_params_)\n",
        "print(\"Best Cross-Validation Score: {:.2f}\".format(grid_3.best_score_))\n",
        "print(\"Test Set Score: {:.2f}\".format(grid_3.score(X_test, y_test)))\n",
        "\n",
        "\n",
        "# 5-Fold CV\n",
        "grid_5 = GridSearchCV(pipe, param_grid, cv=5)\n",
        "grid_5.fit(X_train, y_train)\n",
        "\n",
        "print(\"5-Fold CV Results:\")\n",
        "print(\"Best Parameters:\", grid_5.best_params_)\n",
        "print(\"Best Cross-Validation Score: {:.2f}\".format(grid_5.best_score_))\n",
        "print(\"Test Set Score: {:.2f}\".format(grid_5.score(X_test, y_test)))\n",
        "\n",
        "\n",
        "# 7-Fold CV\n",
        "grid_7 = GridSearchCV(pipe, param_grid, cv=7)\n",
        "grid_7.fit(X_train, y_train)\n",
        "\n",
        "print(\"7-Fold CV Results:\")\n",
        "print(\"Best Parameters:\", grid_7.best_params_)\n",
        "print(\"Best Cross-Validation Score: {:.2f}\".format(grid_7.best_score_))\n",
        "print(\"Test Set Score: {:.2f}\".format(grid_7.score(X_test, y_test)))"
      ],
      "metadata": {
        "colab": {
          "base_uri": "https://localhost:8080/"
        },
        "id": "Hn-9HEsf6eY_",
        "outputId": "ba78b4ad-0455-48bb-a2c5-348ab4976a64"
      },
      "execution_count": 22,
      "outputs": [
        {
          "output_type": "stream",
          "name": "stdout",
          "text": [
            "3-Fold CV Results:\n",
            "Best Parameters: {'classifier__C': 0.1, 'classifier__kernel': 'linear', 'pca__n_components': 3}\n",
            "Best Cross-Validation Score: 0.97\n",
            "Test Set Score: 1.00\n",
            "5-Fold CV Results:\n",
            "Best Parameters: {'classifier__C': 0.1, 'classifier__kernel': 'linear', 'pca__n_components': 3}\n",
            "Best Cross-Validation Score: 0.96\n",
            "Test Set Score: 1.00\n",
            "7-Fold CV Results:\n",
            "Best Parameters: {'classifier__C': 0.1, 'classifier__kernel': 'linear', 'pca__n_components': 3}\n",
            "Best Cross-Validation Score: 0.97\n",
            "Test Set Score: 1.00\n"
          ]
        }
      ]
    },
    {
      "cell_type": "code",
      "source": [
        "from google.colab import files\n",
        "uploaded = files.upload()"
      ],
      "metadata": {
        "id": "-bZGrLcdwubH"
      },
      "execution_count": null,
      "outputs": []
    },
    {
      "cell_type": "markdown",
      "source": [
        "Check for 3 fold, 5 fold and 7 fold cross validation\n",
        "\n",
        "Replace classifier, SVC with RandomForestClassifier and LogisticRegression, Perceptron, knn .\n",
        "\n",
        "Update the param_grid accordingly (e.g., for RandomForestClassifier, use n_estimators, max_depth, etc.)\n",
        "\n",
        "Also replace Gridsearch with randomnsearch function.\n",
        "\n",
        "Relplace with with your own csv dataset using code below:"
      ],
      "metadata": {
        "id": "tqJp7J-jNbu6"
      }
    },
    {
      "cell_type": "code",
      "source": [
        "import pandas as pd\n",
        "\n",
        "# data = pd.read_csv(\"Loan_Default.csv\")\n",
        "data = pd.read_csv(\"Loan_Default.csv\").sample(200, random_state=42)\n",
        "X = data.drop(\"Status\", axis=1)\n",
        "y = data[\"Status\"]\n"
      ],
      "metadata": {
        "id": "aUipqQf8Pcao"
      },
      "execution_count": 25,
      "outputs": []
    },
    {
      "cell_type": "code",
      "source": [
        "from sklearn.model_selection import train_test_split, RandomizedSearchCV\n",
        "from sklearn.pipeline import Pipeline\n",
        "from sklearn.compose import ColumnTransformer\n",
        "from sklearn.impute import SimpleImputer\n",
        "from sklearn.preprocessing import StandardScaler, OneHotEncoder\n",
        "from sklearn.metrics import classification_report, accuracy_score\n",
        "\n",
        "# Identify column types\n",
        "categorical_cols = X.select_dtypes(include=['object', 'category']).columns.tolist()\n",
        "numeric_cols = X.select_dtypes(include=['int64', 'float64']).columns.tolist()\n",
        "\n",
        "# Preprocessing pipelines\n",
        "numeric_transformer = Pipeline([\n",
        "    ('imputer', SimpleImputer(strategy='mean')),\n",
        "    ('scaler', StandardScaler())\n",
        "])\n",
        "\n",
        "categorical_transformer = Pipeline([\n",
        "    ('imputer', SimpleImputer(strategy='most_frequent')),\n",
        "    ('encoder', OneHotEncoder(handle_unknown='ignore', drop='first'))\n",
        "])\n",
        "\n",
        "preprocessor = ColumnTransformer([\n",
        "    ('num', numeric_transformer, numeric_cols),\n",
        "    ('cat', categorical_transformer, categorical_cols)\n",
        "])\n",
        "\n",
        "# Train-test split\n",
        "X_train, X_test, y_train, y_test = train_test_split(X, y, test_size=0.2, random_state=42)\n"
      ],
      "metadata": {
        "id": "3aYrrwWqFH62"
      },
      "execution_count": 26,
      "outputs": []
    },
    {
      "cell_type": "code",
      "source": [
        "## Random Forest\n",
        "\n",
        "from sklearn.ensemble import RandomForestClassifier\n",
        "\n",
        "pipe_rf = Pipeline([\n",
        "    ('preprocess', preprocessor),\n",
        "    ('classifier', RandomForestClassifier(random_state=42))\n",
        "])\n",
        "\n",
        "param_grid_rf = {\n",
        "    'classifier__n_estimators': [50, 100, 200],\n",
        "    'classifier__max_depth': [None, 5, 10, 20],\n",
        "    'classifier__min_samples_split': [2, 5],\n",
        "    'classifier__min_samples_leaf': [1, 2]\n",
        "}\n",
        "\n",
        "search_rf = RandomizedSearchCV(pipe_rf, param_distributions=param_grid_rf, cv=3, n_iter=5, random_state=42, verbose=1)\n",
        "search_rf.fit(X_train, y_train)\n",
        "\n",
        "print(\"Random Forest Best Params:\", search_rf.best_params_)\n",
        "print(\"Cross validation Score:\", search_rf.best_score_)\n",
        "print(\"Test Accuracy:\", accuracy_score(y_test, search_rf.predict(X_test)))\n"
      ],
      "metadata": {
        "id": "XiM5hsgsN30L",
        "colab": {
          "base_uri": "https://localhost:8080/"
        },
        "outputId": "fdb84a52-b4b6-4a1f-e473-06e2749f5c7c"
      },
      "execution_count": 27,
      "outputs": [
        {
          "output_type": "stream",
          "name": "stdout",
          "text": [
            "Fitting 3 folds for each of 5 candidates, totalling 15 fits\n",
            "Random Forest Best Params: {'classifier__n_estimators': 200, 'classifier__min_samples_split': 2, 'classifier__min_samples_leaf': 1, 'classifier__max_depth': 10}\n",
            "Cross validation Score: 0.9062427207081295\n",
            "Test Accuracy: 0.95\n"
          ]
        }
      ]
    },
    {
      "cell_type": "code",
      "source": [
        "##Logistic regression\n",
        "from sklearn.linear_model import LogisticRegression\n",
        "\n",
        "pipe_lr = Pipeline([\n",
        "    ('preprocess', preprocessor),\n",
        "    ('classifier', LogisticRegression(max_iter=200))\n",
        "])\n",
        "\n",
        "param_grid_lr = {\n",
        "    'classifier__C': [0.01, 0.1, 1, 10],\n",
        "    'classifier__penalty': ['l2'],\n",
        "    'classifier__solver': ['lbfgs', 'liblinear']\n",
        "}\n",
        "\n",
        "search_lr = RandomizedSearchCV(pipe_lr, param_distributions=param_grid_lr, cv=5, n_iter=5, random_state=42, verbose=1)\n",
        "search_lr.fit(X_train, y_train)\n",
        "\n",
        "print(\"Logistic Regression Best Params:\", search_lr.best_params_)\n",
        "print(\"Cross validation Score:\", search_lr.best_score_)\n",
        "print(\"Test Accuracy:\", accuracy_score(y_test, search_lr.predict(X_test)))\n",
        "\n"
      ],
      "metadata": {
        "colab": {
          "base_uri": "https://localhost:8080/"
        },
        "id": "As9CEyB7FLby",
        "outputId": "9768ad5a-fb48-4403-b1f6-c8f2a16f9730"
      },
      "execution_count": 29,
      "outputs": [
        {
          "output_type": "stream",
          "name": "stdout",
          "text": [
            "Fitting 5 folds for each of 5 candidates, totalling 25 fits\n",
            "Logistic Regression Best Params: {'classifier__solver': 'liblinear', 'classifier__penalty': 'l2', 'classifier__C': 0.01}\n",
            "Cross validation Score: 0.79375\n",
            "Test Accuracy: 0.775\n"
          ]
        }
      ]
    },
    {
      "cell_type": "code",
      "source": [
        "## Perceptron\n",
        "from sklearn.linear_model import Perceptron\n",
        "\n",
        "pipe_per = Pipeline([\n",
        "    ('preprocess', preprocessor),\n",
        "    ('classifier', Perceptron(max_iter=1000, tol=1e-3, random_state=42))\n",
        "])\n",
        "\n",
        "param_grid_per = {\n",
        "    'classifier__penalty': [None, 'l2', 'l1', 'elasticnet'],\n",
        "    'classifier__alpha': [0.0001, 0.001, 0.01],\n",
        "    'classifier__fit_intercept': [True, False]\n",
        "}\n",
        "\n",
        "search_per = RandomizedSearchCV(pipe_per, param_distributions=param_grid_per, cv=7, n_iter=5, random_state=42, verbose=1)\n",
        "search_per.fit(X_train, y_train)\n",
        "\n",
        "print(\"Perceptron Best Params:\", search_per.best_params_)\n",
        "print(\"Cross Validation Score:\", search_per.best_score_)\n",
        "print(\"Test Accuracy:\", accuracy_score(y_test, search_per.predict(X_test)))\n"
      ],
      "metadata": {
        "colab": {
          "base_uri": "https://localhost:8080/"
        },
        "id": "swbX1xrzFXkF",
        "outputId": "51bf29a4-3873-4abc-c58f-b3e43188bd14"
      },
      "execution_count": 31,
      "outputs": [
        {
          "output_type": "stream",
          "name": "stdout",
          "text": [
            "Fitting 7 folds for each of 5 candidates, totalling 35 fits\n",
            "Perceptron Best Params: {'classifier__penalty': None, 'classifier__fit_intercept': True, 'classifier__alpha': 0.001}\n",
            "Cross Validation Score: 0.7619988706945229\n",
            "Test Accuracy: 0.75\n"
          ]
        }
      ]
    },
    {
      "cell_type": "code",
      "source": [
        "##KNN\n",
        "\n",
        "from sklearn.neighbors import KNeighborsClassifier\n",
        "\n",
        "pipe_knn = Pipeline([\n",
        "    ('preprocess', preprocessor),\n",
        "    ('classifier', KNeighborsClassifier())\n",
        "])\n",
        "\n",
        "param_grid_knn = {\n",
        "    'classifier__n_neighbors': [3, 5, 7, 9],\n",
        "    'classifier__weights': ['uniform', 'distance'],\n",
        "    'classifier__p': [1, 2]\n",
        "}\n",
        "\n",
        "search_knn = RandomizedSearchCV(pipe_knn, param_distributions=param_grid_knn, cv=3, n_iter=5, random_state=42, verbose=1)\n",
        "search_knn.fit(X_train, y_train)\n",
        "\n",
        "print(\"KNN Best Params:\", search_knn.best_params_)\n",
        "print(\"Cross Validation Score:\", search_knn.best_score_)\n",
        "print(\"Test Accuracy:\", accuracy_score(y_test, search_knn.predict(X_test)))\n"
      ],
      "metadata": {
        "colab": {
          "base_uri": "https://localhost:8080/"
        },
        "id": "bAMPEoTwFebh",
        "outputId": "cc65d7fa-8970-4785-ebca-dab1096887f0"
      },
      "execution_count": 32,
      "outputs": [
        {
          "output_type": "stream",
          "name": "stdout",
          "text": [
            "Fitting 3 folds for each of 5 candidates, totalling 15 fits\n",
            "KNN Best Params: {'classifier__weights': 'distance', 'classifier__p': 1, 'classifier__n_neighbors': 5}\n",
            "Cross Validation Score: 0.8313533659445609\n",
            "Test Accuracy: 0.775\n"
          ]
        }
      ]
    },
    {
      "cell_type": "markdown",
      "source": [
        "Link to video explanation\n",
        "\n",
        "https://drive.google.com/file/d/1HY7SVDRFG9UcMk1NsalNx3Gi02JSYKCn/view?usp=sharing\n",
        "\n"
      ],
      "metadata": {
        "id": "n55LMoPh1PT9"
      }
    },
    {
      "cell_type": "markdown",
      "source": [],
      "metadata": {
        "id": "T6hlwFRF1Vz8"
      }
    }
  ]
}