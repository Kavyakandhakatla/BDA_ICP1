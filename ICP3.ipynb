{
  "nbformat": 4,
  "nbformat_minor": 0,
  "metadata": {
    "colab": {
      "provenance": [],
      "authorship_tag": "ABX9TyMEuTX60AAFgZj4rnBaJkkA",
      "include_colab_link": true
    },
    "kernelspec": {
      "name": "python3",
      "display_name": "Python 3"
    },
    "language_info": {
      "name": "python"
    }
  },
  "cells": [
    {
      "cell_type": "markdown",
      "metadata": {
        "id": "view-in-github",
        "colab_type": "text"
      },
      "source": [
        "<a href=\"https://colab.research.google.com/github/Kavyakandhakatla/BDA_ICP1/blob/main/ICP3.ipynb\" target=\"_parent\"><img src=\"https://colab.research.google.com/assets/colab-badge.svg\" alt=\"Open In Colab\"/></a>"
      ]
    },
    {
      "cell_type": "markdown",
      "source": [
        "a. Using NumPy create random vector of size 15 having only Integers in the range 1-20.\n",
        "1. 3. Reshape the array to 3 by 5\n",
        "2. Print array shape.\n",
        "Replace the max in each row by 0"
      ],
      "metadata": {
        "id": "88cqSlA-qoEG"
      }
    },
    {
      "cell_type": "code",
      "source": [
        "import numpy as np"
      ],
      "metadata": {
        "id": "mf3Scwajr-PG"
      },
      "execution_count": null,
      "outputs": []
    },
    {
      "cell_type": "code",
      "source": [
        "arr = np.random.randint(1, 21, size=15)\n",
        "print(\"Initial array:\", arr)\n",
        "arr_reshaped = arr.reshape(3, 5)\n",
        "print(\"Reshaped array to 3 by 5:\", arr_reshaped)\n",
        "print(\"Shape of array:\", arr_reshaped.shape)\n",
        "for i in range(arr_reshaped.shape[0]):\n",
        "    index = np.argmax(arr_reshaped[i])\n",
        "    arr_reshaped[i, index] = 0\n",
        "\n",
        "print(\"Array after replacing max in each row with 0:\", arr_reshaped)\n"
      ],
      "metadata": {
        "colab": {
          "base_uri": "https://localhost:8080/"
        },
        "id": "6jUCBt74qpGE",
        "outputId": "f78ae569-b4c3-45d8-f0f6-5605e3addc10"
      },
      "execution_count": null,
      "outputs": [
        {
          "output_type": "stream",
          "name": "stdout",
          "text": [
            "Initial array: [ 3 18  2  9  8 10  7  6 17 16 15 12  1  2 20]\n",
            "Reshaped array to 3 by 5: [[ 3 18  2  9  8]\n",
            " [10  7  6 17 16]\n",
            " [15 12  1  2 20]]\n",
            "Shape of array: (3, 5)\n",
            "Array after replacing max in each row with 0: [[ 3  0  2  9  8]\n",
            " [10  7  6  0 16]\n",
            " [15 12  1  2  0]]\n"
          ]
        }
      ]
    },
    {
      "cell_type": "markdown",
      "source": [
        " Create a 2-dimensional array of size 4 x 3 (composed of 4-byte integer elements), also print the shape, type and data\n",
        "type of the array."
      ],
      "metadata": {
        "id": "ehdA-Sgdratu"
      }
    },
    {
      "cell_type": "code",
      "source": [
        "arr = np.array([[0, 1, 2],\n",
        "                [3, 4, 5],\n",
        "                [6, 7, 8],\n",
        "                [9, 10, 11]], dtype=np.int32)\n",
        "print(\"Initial array:\", arr)\n",
        "print(\"Shape of the array:\", arr.shape)\n",
        "print(\"Type of the array:\", type(arr))\n",
        "print(\"Data type of elements in the array:\", arr.dtype)\n"
      ],
      "metadata": {
        "colab": {
          "base_uri": "https://localhost:8080/"
        },
        "id": "YQm77eBzrlsG",
        "outputId": "f4c91167-963e-46b2-e125-24914d037183"
      },
      "execution_count": null,
      "outputs": [
        {
          "output_type": "stream",
          "name": "stdout",
          "text": [
            "Initial array: [[ 0  1  2]\n",
            " [ 3  4  5]\n",
            " [ 6  7  8]\n",
            " [ 9 10 11]]\n",
            "Shape of the array: (4, 3)\n",
            "Type of the array: <class 'numpy.ndarray'>\n",
            "Data type of elements in the array: int32\n"
          ]
        }
      ]
    },
    {
      "cell_type": "markdown",
      "source": [
        "Write a program to compute the eigenvalues and right eigenvectors of a given square array given below:\n",
        "[[ 3 -2]\n",
        "[ 1 0]]"
      ],
      "metadata": {
        "id": "sqFmWvxnsGBX"
      }
    },
    {
      "cell_type": "code",
      "source": [
        "Array = np.array([[3, -2],\n",
        "              [1,  0]])\n",
        "eigenvalues, eigenvectors = np.linalg.eig(Array)\n",
        "print(\"Eigenvalues:\", eigenvalues)\n",
        "print(\"Right Eigenvectors:\", eigenvectors)\n"
      ],
      "metadata": {
        "colab": {
          "base_uri": "https://localhost:8080/"
        },
        "id": "3LnAkBdasIlP",
        "outputId": "ad02080b-8e31-4694-a523-d3137f29d10f"
      },
      "execution_count": null,
      "outputs": [
        {
          "output_type": "stream",
          "name": "stdout",
          "text": [
            "Eigenvalues: [2. 1.]\n",
            "Right Eigenvectors: [[0.89442719 0.70710678]\n",
            " [0.4472136  0.70710678]]\n"
          ]
        }
      ]
    },
    {
      "cell_type": "markdown",
      "source": [
        " Compute the sum of the diagonal element of a given array.\n",
        "[[0 1 2]\n",
        "[3 4 5]]"
      ],
      "metadata": {
        "id": "bUZP8YKKse94"
      }
    },
    {
      "cell_type": "code",
      "source": [
        "Array = np.array([[0, 1, 2],\n",
        "              [3, 4, 5]])\n",
        "sum = np.trace(Array)\n",
        "print(\"Sum of diagonal elements:\", sum)\n"
      ],
      "metadata": {
        "colab": {
          "base_uri": "https://localhost:8080/"
        },
        "id": "q-vscsQjshRg",
        "outputId": "5935667c-0b33-4479-d143-09e1f0968234"
      },
      "execution_count": null,
      "outputs": [
        {
          "output_type": "stream",
          "name": "stdout",
          "text": [
            "Sum of diagonal elements: 4\n"
          ]
        }
      ]
    },
    {
      "cell_type": "markdown",
      "source": [
        "Write a NumPy program to create a new shape to an array without changing its data.\n",
        "Reshape 3x2:\n",
        "[[1 2]\n",
        "[3 4]\n",
        "[5 6]]\n",
        "Reshape 2x3:\n",
        "[[1 2 3]\n",
        "[4 5 6]]"
      ],
      "metadata": {
        "id": "TxBeQpL3tAJp"
      }
    },
    {
      "cell_type": "code",
      "source": [
        "arr = np.array([[1, 2],\n",
        "                [3, 4],\n",
        "                [5, 6]])\n",
        "print(\"Original array:\", arr)\n",
        "reshapeArray = arr.reshape(2, 3)\n",
        "print(\"Reshaped arraty:\", reshapeArray)\n"
      ],
      "metadata": {
        "colab": {
          "base_uri": "https://localhost:8080/"
        },
        "id": "Q6bYU442tC0h",
        "outputId": "bf0316f0-0792-4c4d-e9d3-42c023aa6895"
      },
      "execution_count": null,
      "outputs": [
        {
          "output_type": "stream",
          "name": "stdout",
          "text": [
            "Original array: [[1 2]\n",
            " [3 4]\n",
            " [5 6]]\n",
            "Reshaped arraty: [[1 2 3]\n",
            " [4 5 6]]\n"
          ]
        }
      ]
    },
    {
      "cell_type": "markdown",
      "source": [
        "https://drive.google.com/file/d/1nrSwHCFdAn4g6Xd_OCOckQ-4lu_YCu2g/view?usp=drive_link"
      ],
      "metadata": {
        "id": "YmTB1-72X-NS"
      }
    }
  ]
}